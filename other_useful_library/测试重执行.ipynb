{
 "cells": [
  {
   "cell_type": "markdown",
   "id": "02917d6d-3919-401c-a404-bced925de21d",
   "metadata": {},
   "source": [
    "# 测试如果从某个块重执行,后面是否会变化\n",
    "结论: 每个代码块前的数字代表执行的顺序. 哪怕前面的变量变了, 也不会影响后面的执行结果. 除非重新执行"
   ]
  },
  {
   "cell_type": "code",
   "execution_count": 6,
   "id": "8fe8a960-3ed3-4e9f-8985-1583b9add3b6",
   "metadata": {},
   "outputs": [],
   "source": [
    "a = 4"
   ]
  },
  {
   "cell_type": "code",
   "execution_count": 10,
   "id": "0341ae59-cf89-423e-b359-0284f42e35ee",
   "metadata": {},
   "outputs": [],
   "source": [
    "b = a + 1"
   ]
  },
  {
   "cell_type": "code",
   "execution_count": 11,
   "id": "88a02261-aff9-47cd-a795-75b335ec6be5",
   "metadata": {},
   "outputs": [
    {
     "name": "stdout",
     "output_type": "stream",
     "text": [
      "5\n"
     ]
    }
   ],
   "source": [
    "print(b)"
   ]
  },
  {
   "cell_type": "code",
   "execution_count": 8,
   "id": "63550453-1cd5-4ab5-a287-576d4c704fcc",
   "metadata": {},
   "outputs": [],
   "source": [
    "c = b + 1"
   ]
  },
  {
   "cell_type": "code",
   "execution_count": 12,
   "id": "cd815e80-1e6d-4b1c-867a-6489eaab78fa",
   "metadata": {},
   "outputs": [
    {
     "name": "stdout",
     "output_type": "stream",
     "text": [
      "5\n"
     ]
    }
   ],
   "source": [
    "print(c)"
   ]
  }
 ],
 "metadata": {
  "kernelspec": {
   "display_name": "Python 3 (ipykernel)",
   "language": "python",
   "name": "python3"
  },
  "language_info": {
   "codemirror_mode": {
    "name": "ipython",
    "version": 3
   },
   "file_extension": ".py",
   "mimetype": "text/x-python",
   "name": "python",
   "nbconvert_exporter": "python",
   "pygments_lexer": "ipython3",
   "version": "3.12.3"
  }
 },
 "nbformat": 4,
 "nbformat_minor": 5
}

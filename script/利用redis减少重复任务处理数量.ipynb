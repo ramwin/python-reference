{
 "cells": [
  {
   "cell_type": "markdown",
   "id": "cee80408-eb8f-4f02-a5b8-01ce87780c8b",
   "metadata": {},
   "source": [
    "# 一个简单的利用redis来做任务去重以加快数据处理速度的框架.\n",
    "* 使用场景\n",
    "适合一个对象会经常因为子对象变更而产生复杂计算, 并且对于这个计算允许有一定时延的场景\n",
    "    1. 12306网站, 用户下单后, 需要重新计算当次列车剩余的车票数量.\n",
    "    2. 股票网站, 因为某个人的交易, 需要更新5分钟的交易量数据"
   ]
  },
  {
   "cell_type": "code",
   "execution_count": 1,
   "id": "0980dd29-267d-49c8-94b3-bc29ab607b75",
   "metadata": {},
   "outputs": [],
   "source": [
    "import redis\n",
    "client = redis.Redis(decode_responses=True)"
   ]
  },
  {
   "cell_type": "code",
   "execution_count": 2,
   "id": "4cf22575-99ec-499b-9652-fb7cdbc3bbea",
   "metadata": {},
   "outputs": [],
   "source": [
    "# 一个缓存用来保存数据\n",
    "CACHE_KEY = \"testcase_result\"\n",
    "# 一个缓存用来对任务去重\n",
    "TASK_KEY = \"testcase_to_update\""
   ]
  },
  {
   "cell_type": "code",
   "execution_count": 3,
   "id": "54693635-898e-49fd-b19a-97ba0377743f",
   "metadata": {},
   "outputs": [
    {
     "data": {
      "text/plain": [
       "0"
      ]
     },
     "execution_count": 3,
     "metadata": {},
     "output_type": "execute_result"
    }
   ],
   "source": [
    "client.hset(CACHE_KEY,\n",
    "            \"testcase_0\",\n",
    "            json.dumps({\"passed\": False}),\n",
    "           )\n",
    "client.zadd(TASK_KEY,\n",
    "            {\"testcase_0\": int(time.time()) - 1704000000}   # 每次都把时间戳当作权重\n",
    "           )\n",
    "client.hset(CACHE_KEY, \"testcase_1\", \n",
    "            json.dumps({\"passed\": True}),\n",
    "           )\n",
    "client.zadd(TASK_KEY, \n",
    "            {\"testcase_1\": int(time.time()) - 1704000000}   # 每次都把时间戳当作权重\n",
    "           )\n",
    "client.hset(CACHE_KEY, \"testcase_0\", \n",
    "            json.dumps({\"passed\": True}),\n",
    "           )\n",
    "client.zadd(TASK_KEY, \n",
    "            {\"testcase_0\": int(time.time()) - 1704000000}   # 每次都把时间戳当作权重\n",
    "           )"
   ]
  },
  {
   "cell_type": "code",
   "execution_count": 4,
   "id": "ddd893d6-9499-417e-8ba3-488315b415e4",
   "metadata": {
    "scrolled": true
   },
   "outputs": [
    {
     "name": "stdout",
     "output_type": "stream",
     "text": [
      "2\n",
      "testcase_0变成了 {'passed': True}\n",
      "testcase_1变成了 {'passed': True}\n"
     ]
    }
   ],
   "source": [
    "\"\"\"虽然任务有触发3次, 但是实际只执行2次\"\"\"\n",
    "print(client.zcard(TASK_KEY))\n",
    "for (testcase_code, score) in client.zpopmin(TASK_KEY, count=100):\n",
    "    result = client.hget(CACHE_KEY, testcase_code)\n",
    "    client.hdel(CACHE_KEY, testcase_code)\n",
    "    print(f\"{testcase_code}变成了 {json.loads(result)}\")"
   ]
  }
 ],
 "metadata": {
  "kernelspec": {
   "display_name": "Python 3 (ipykernel)",
   "language": "python",
   "name": "python3"
  },
  "language_info": {
   "codemirror_mode": {
    "name": "ipython",
    "version": 3
   },
   "file_extension": ".py",
   "mimetype": "text/x-python",
   "name": "python",
   "nbconvert_exporter": "python",
   "pygments_lexer": "ipython3",
   "version": "3.10.12"
  }
 },
 "nbformat": 4,
 "nbformat_minor": 5
}
